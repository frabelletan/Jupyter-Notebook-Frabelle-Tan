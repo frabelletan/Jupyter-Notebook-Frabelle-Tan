{
 "cells": [
  {
   "cell_type": "markdown",
   "id": "b4b4a5ee",
   "metadata": {},
   "source": [
    "# My Jupiter Notebook on IBM Watson Studio "
   ]
  },
  {
   "cell_type": "markdown",
   "id": "ef9268da",
   "metadata": {},
   "source": [
    "__Frabelle Tan__\n",
    "Data Visualization and Analyst"
   ]
  },
  {
   "cell_type": "markdown",
   "id": "a15e4f7a",
   "metadata": {},
   "source": [
    "_I am interested in Data Science because it transforms complex data to easily understandable visualization._"
   ]
  },
  {
   "cell_type": "markdown",
   "id": "90e4e98b",
   "metadata": {},
   "source": [
    "### My code in Cell 5 combines two sets of list together."
   ]
  },
  {
   "cell_type": "code",
   "execution_count": 1,
   "id": "418cbf9b",
   "metadata": {},
   "outputs": [
    {
     "data": {
      "text/plain": [
       "[1, 2, 3, 4, 5, 6, 7, 8]"
      ]
     },
     "execution_count": 1,
     "metadata": {},
     "output_type": "execute_result"
    }
   ],
   "source": [
    "x = [1, 2, 3, 4];\n",
    "y = [5, 6, 7, 8];\n",
    "\n",
    "x + y "
   ]
  },
  {
   "cell_type": "markdown",
   "id": "e5d62c68",
   "metadata": {},
   "source": [
    "- Bullet Item 1\n",
    "- Bullet Item 2\n",
    "\n",
    "1. Number Item 1\n",
    "2. Number Item 2\n",
    "\n",
    "| This |   is  |\n",
    "|------|-------|\n",
    "|   a  | table |"
   ]
  }
 ],
 "metadata": {
  "kernelspec": {
   "display_name": "Python 3 (ipykernel)",
   "language": "python",
   "name": "python3"
  },
  "language_info": {
   "codemirror_mode": {
    "name": "ipython",
    "version": 3
   },
   "file_extension": ".py",
   "mimetype": "text/x-python",
   "name": "python",
   "nbconvert_exporter": "python",
   "pygments_lexer": "ipython3",
   "version": "3.9.13"
  }
 },
 "nbformat": 4,
 "nbformat_minor": 5
}
